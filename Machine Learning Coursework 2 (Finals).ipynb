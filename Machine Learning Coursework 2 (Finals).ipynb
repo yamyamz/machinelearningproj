{
 "cells": [
  {
   "cell_type": "markdown",
   "id": "5042dbc5",
   "metadata": {},
   "source": [
    "# Importing Relevant Libraries"
   ]
  },
  {
   "cell_type": "code",
   "execution_count": 1,
   "id": "f4810b2d",
   "metadata": {},
   "outputs": [],
   "source": [
    "import matplotlib.pyplot as plot\n",
    "from keras.datasets import imdb\n",
    "import numpy as np\n",
    "from keras import models\n",
    "from keras import layers\n",
    "from keras import regularizers"
   ]
  },
  {
   "cell_type": "markdown",
   "id": "e1123624",
   "metadata": {},
   "source": [
    "## Defining the problem and assembling of the data set\n"
   ]
  },
  {
   "cell_type": "markdown",
   "id": "a3b02935",
   "metadata": {},
   "source": [
    "For this machine learning problem, I am trying to find how accurate the model detects the nature of the comments found in the imdb dataset. How accurate can it be able to detect whether the comments are positive or negative. To tackle this problem, I am going to be using the IMDB dataset which consists movie reviews and sentiment annotations.\n",
    "\n",
    "This machine learning probblem can be classified under <strong> Binary classification </strong> using the IMDB movie reviews data to see if the reviews on the website are positive or negative.\n",
    "<strong> Binary classification </strong> is used as this dataset invloves 2 classes in which is positive or negative. The data will be obtained from keras dataset.\n",
    "\n",
    "Since I already know the inputs and outputs I will be getting from this, the hypotheses I will be making at this stage is\n",
    "\n",
    "1)The ouputs (whethers it negative or positive) can be predicted given the inputs (impdb dataset)\n",
    "\n",
    "2) The available data in the imdb dataset is sufficient enough as it contains a large amount of data\n"
   ]
  },
  {
   "cell_type": "markdown",
   "id": "6d919a4b",
   "metadata": {},
   "source": [
    "##  Choosing a measure of success"
   ]
  },
  {
   "cell_type": "markdown",
   "id": "9b491af3",
   "metadata": {},
   "source": [
    "For this IMDB dataset, the meaaure of success is <strong> accuracy </strong>. This is because this imdb data set is a balanced-classification problem (binary classification). \n",
    "\n"
   ]
  },
  {
   "cell_type": "markdown",
   "id": "0b7c69d7",
   "metadata": {},
   "source": [
    "## Preparing Data"
   ]
  },
  {
   "cell_type": "markdown",
   "id": "e0997b49",
   "metadata": {},
   "source": [
    "The imdb dataset will be taken from keras"
   ]
  },
  {
   "cell_type": "code",
   "execution_count": 2,
   "id": "e7e7b5ec",
   "metadata": {},
   "outputs": [],
   "source": [
    "(trainingData, trainingLabels), (testingData, testingLabels) = imdb.load_data(\n",
    "num_words=10000)"
   ]
  },
  {
   "cell_type": "markdown",
   "id": "76129426",
   "metadata": {},
   "source": [
    "Since we cannot input a list of integers into the model, we must convert our lists into tensors. For this dataset, I have chosen to vectorise the data. This means the lists of integers will be turned into vectors of zeros and ones.\n",
    "In the function below, I am vectorizing the training data"
   ]
  },
  {
   "cell_type": "code",
   "execution_count": 3,
   "id": "dee9a2c5",
   "metadata": {},
   "outputs": [],
   "source": [
    "def vectorising_to_tensor(test_train_data, dimen =10000):\n",
    "    # gets the length of the test train data\n",
    "    ttd_len = len(test_train_data)\n",
    "    #Creates a matrix filled with zeros\n",
    "    vector_matrix = np.zeros(( ttd_len, dimen))\n",
    "    for x, ttd_seq in enumerate(test_train_data):\n",
    "        #Sets indices to 1\n",
    "        vector_matrix[x, ttd_seq] = 1.\n",
    "    return vector_matrix\n"
   ]
  },
  {
   "cell_type": "markdown",
   "id": "fa38b8b5",
   "metadata": {},
   "source": [
    "Vectorising the x train and x test data to tensors."
   ]
  },
  {
   "cell_type": "code",
   "execution_count": 4,
   "id": "3d0c89d7",
   "metadata": {},
   "outputs": [],
   "source": [
    "trainingX = vectorising_to_tensor(trainingData)\n",
    "testingX = vectorising_to_tensor(testingData)"
   ]
  },
  {
   "cell_type": "markdown",
   "id": "e159ec5d",
   "metadata": {},
   "source": [
    "The codes below helps to vectorize the training and testing labels"
   ]
  },
  {
   "cell_type": "code",
   "execution_count": 5,
   "id": "996e23cb",
   "metadata": {},
   "outputs": [],
   "source": [
    "trainingY = np.asarray(trainingLabels).astype('float32')\n",
    "testingY = np.asarray(testingLabels).astype('float32')"
   ]
  },
  {
   "cell_type": "markdown",
   "id": "3b022a27",
   "metadata": {},
   "source": [
    "## Developing a model that does better than baseline"
   ]
  },
  {
   "cell_type": "markdown",
   "id": "b5340b2f",
   "metadata": {},
   "source": [
    "The baseline accuracy for IMDB must be greater than 50%. \n",
    "\n",
    "##### The hypotheses I am making here is\n",
    "\n",
    "1) The outputs created can be prdeicted by the inputs I feed intp the model\n",
    "\n",
    "2) The data that is availabe in the IMDB dataset is detailed and using these data will help us learn the relationship between the input data and the output data\n",
    "\n",
    "##### To build my first working model, \n",
    "\n",
    "1) The last-layer activation which shows the constraints of the output, will be sigmoid as the problem is a binary classification problem and the outputs of the model network is either going to be 1 or 0 ( Probability)\n",
    "\n",
    "2) The  Loss function used will be \"binary_crossentropy\" as a binary classification problem is being solved here and the its appropriate for the output here which is a probability\n",
    "\n",
    "3) The optimisation configration used is rmsprop.\n",
    "\n",
    "To have a base line model, I have used 3 layers. There are two intermediate with 4 hidden units which used relu as the activation function. The third layer the activation function being used is sigmoid as the resultof the model will be either negative or positive, a probability. "
   ]
  },
  {
   "cell_type": "code",
   "execution_count": 6,
   "id": "21b75a21",
   "metadata": {},
   "outputs": [],
   "source": [
    "imdb_model = models.Sequential()\n",
    "imdb_model.add(layers.Dense(4, activation='relu', input_shape=(10000,)))\n",
    "imdb_model.add(layers.Dense(4, activation='relu'))\n",
    "imdb_model.add(layers.Dense(1, activation='sigmoid'))"
   ]
  },
  {
   "cell_type": "markdown",
   "id": "817ea643",
   "metadata": {},
   "source": [
    "## Deciding on an evaluation protocol"
   ]
  },
  {
   "cell_type": "markdown",
   "id": "b5dbebdb",
   "metadata": {},
   "source": [
    "Since the IMDB dataset has plenty of data, the evaluation protocol that I will be using is <strong> \"Maintaining a hold-out validation set\"</strong> The code extract below sets apart 10,000 samples from the training data."
   ]
  },
  {
   "cell_type": "code",
   "execution_count": 7,
   "id": "da2da33c",
   "metadata": {},
   "outputs": [],
   "source": [
    "x_validation = trainingX[:10000]\n",
    "partialXTrain =trainingX[10000:]\n",
    "y_validation = trainingY[:10000]\n",
    "partialYTrain = trainingY[10000:]"
   ]
  },
  {
   "cell_type": "markdown",
   "id": "e78d0af8",
   "metadata": {},
   "source": [
    "As mentioned, the optimiser used will be rmsprop, loss is binary crossentropy and the metrics to measure success will be accuracy"
   ]
  },
  {
   "cell_type": "code",
   "execution_count": 8,
   "id": "42b60161",
   "metadata": {},
   "outputs": [],
   "source": [
    "imdb_model.compile(optimizer='rmsprop',\n",
    "loss='binary_crossentropy',\n",
    "metrics=['accuracy'])"
   ]
  },
  {
   "cell_type": "markdown",
   "id": "d13fe2c7",
   "metadata": {},
   "source": [
    "This is the training of model using the validation data for 4 epochs which means 4 iterations over all the training tensors in batch sizes og 512. Fit these into the model and label it imdb_history."
   ]
  },
  {
   "cell_type": "code",
   "execution_count": 9,
   "id": "033c622e",
   "metadata": {},
   "outputs": [
    {
     "name": "stdout",
     "output_type": "stream",
     "text": [
      "Epoch 1/4\n",
      "30/30 [==============================] - 3s 37ms/step - loss: 0.6371 - accuracy: 0.6475 - val_loss: 0.5864 - val_accuracy: 0.7179\n",
      "Epoch 2/4\n",
      "30/30 [==============================] - 1s 19ms/step - loss: 0.5264 - accuracy: 0.8306 - val_loss: 0.4994 - val_accuracy: 0.8106\n",
      "Epoch 3/4\n",
      "30/30 [==============================] - 1s 22ms/step - loss: 0.4234 - accuracy: 0.8896 - val_loss: 0.4083 - val_accuracy: 0.8754\n",
      "Epoch 4/4\n",
      "30/30 [==============================] - 1s 22ms/step - loss: 0.3403 - accuracy: 0.9109 - val_loss: 0.3520 - val_accuracy: 0.8823\n"
     ]
    }
   ],
   "source": [
    "imdb_history = imdb_model.fit(partialXTrain,\n",
    "                    partialYTrain,\n",
    "                    epochs=4,\n",
    "                    batch_size=512,\n",
    "                    validation_data=(x_validation, y_validation))"
   ]
  },
  {
   "cell_type": "markdown",
   "id": "2595d7ad",
   "metadata": {},
   "source": [
    "The validation and training loss will be drawn in a graph format."
   ]
  },
  {
   "cell_type": "code",
   "execution_count": 10,
   "id": "b2d139ec",
   "metadata": {},
   "outputs": [
    {
     "data": {
      "image/png": "[encoded data removed]",
      "text/plain": [
       "<Figure size 432x288 with 1 Axes>"
      ]
     },
     "metadata": {
      "needs_background": "light"
     },
     "output_type": "display_data"
    }
   ],
   "source": [
    "history_dict_val = imdb_history.history\n",
    "lossValues = history_dict_val['loss']\n",
    "validationLossValues = history_dict_val['val_loss']\n",
    "lenLv = len(lossValues)\n",
    "ep_ochs = range(1, lenLv + 1)\n",
    "plot.plot(ep_ochs, lossValues, color='magenta',linestyle='solid', label='Train loss')\n",
    "plot.plot(ep_ochs, validationLossValues, color='red',linestyle='solid', label='Validation loss')\n",
    "plot.title('Training and validation loss')\n",
    "plot.xlabel('Epochs')\n",
    "plot.ylabel('Loss')\n",
    "plot.legend()\n",
    "plot.show()"
   ]
  },
  {
   "cell_type": "markdown",
   "id": "8d30a1ff",
   "metadata": {},
   "source": [
    "## Developing a model that overfits"
   ]
  },
  {
   "cell_type": "markdown",
   "id": "3be1f4c0",
   "metadata": {},
   "source": [
    "The baseline model created does not have enough layers so it cannot model the problems properly. We need a model that is between underfitting and overfitting, a balance between optimisation and generalisation. To find the right model that doesnt underfit or overfit, we must first make the model overfit first. Then only we will be able to figure out the right model.\n",
    "\n",
    "To make my model overfit, \n",
    "1) I made the layers bigger by using 512 units per layer. \n",
    "\n",
    "To spot overfitting, we should observe the training loss and validation loss. When the model doesnt perform well on the validation data set that it the perfomance of the model starts to dwindle,it is overfitting.The validation loss will go up."
   ]
  },
  {
   "cell_type": "code",
   "execution_count": 11,
   "id": "0f2a00e9",
   "metadata": {},
   "outputs": [],
   "source": [
    "imdb_model = models.Sequential()\n",
    "imdb_model.add(layers.Dense(512, activation='relu', input_shape=(10000,)))\n",
    "imdb_model.add(layers.Dense(512, activation='relu'))\n",
    "imdb_model.add(layers.Dense(1, activation='sigmoid'))\n",
    "\n"
   ]
  },
  {
   "cell_type": "code",
   "execution_count": 12,
   "id": "b73452f9",
   "metadata": {},
   "outputs": [],
   "source": [
    "imdb_model.compile(optimizer='rmsprop',\n",
    "loss='binary_crossentropy',\n",
    "metrics=['accuracy'])"
   ]
  },
  {
   "cell_type": "code",
   "execution_count": 13,
   "id": "0458e2a7",
   "metadata": {},
   "outputs": [
    {
     "name": "stdout",
     "output_type": "stream",
     "text": [
      "Epoch 1/4\n",
      "30/30 [==============================] - 7s 183ms/step - loss: 0.5331 - accuracy: 0.7730 - val_loss: 0.5172 - val_accuracy: 0.7477\n",
      "Epoch 2/4\n",
      "30/30 [==============================] - 5s 169ms/step - loss: 0.2465 - accuracy: 0.9032 - val_loss: 0.3042 - val_accuracy: 0.8779\n",
      "Epoch 3/4\n",
      "30/30 [==============================] - 5s 175ms/step - loss: 0.1555 - accuracy: 0.9403 - val_loss: 0.2934 - val_accuracy: 0.8880\n",
      "Epoch 4/4\n",
      "30/30 [==============================] - 5s 173ms/step - loss: 0.0577 - accuracy: 0.9809 - val_loss: 1.3668 - val_accuracy: 0.7012\n"
     ]
    }
   ],
   "source": [
    "imdb_history = imdb_model.fit(partialXTrain,\n",
    "                    partialYTrain,\n",
    "                    epochs=4,\n",
    "                    batch_size=512,\n",
    "                    validation_data=(x_validation, y_validation))"
   ]
  },
  {
   "cell_type": "markdown",
   "id": "e043bd1e",
   "metadata": {},
   "source": [
    "As we can see from the validation and training loss graph, the model's performance using the validation data has dwindled. This is because the validation loss increases after 3 epochs and it remains high. Therefore, we have achieved overfitting."
   ]
  },
  {
   "cell_type": "code",
   "execution_count": 14,
   "id": "d3aca644",
   "metadata": {},
   "outputs": [
    {
     "data": {
      "image/png": "[encoded data removed]",
      "text/plain": [
       "<Figure size 432x288 with 1 Axes>"
      ]
     },
     "metadata": {
      "needs_background": "light"
     },
     "output_type": "display_data"
    }
   ],
   "source": [
    "history_dict_val = imdb_history.history\n",
    "lossValues = history_dict_val['loss']\n",
    "validationLossValues = history_dict_val['val_loss']\n",
    "lenLv = len(lossValues)\n",
    "ep_ochs = range(1, lenLv + 1)\n",
    "plot.plot(ep_ochs, lossValues, color='magenta',linestyle='solid', label='Train loss')\n",
    "plot.plot(ep_ochs, validationLossValues, color='red',linestyle='solid', label='Validation loss')\n",
    "plot.title('Training and validation loss')\n",
    "plot.xlabel('Epochs')\n",
    "plot.ylabel('Loss')\n",
    "plot.legend()\n",
    "plot.show()"
   ]
  },
  {
   "cell_type": "markdown",
   "id": "0de818d2",
   "metadata": {},
   "source": [
    "# Regularizing the model and tuning your hyperparameters"
   ]
  },
  {
   "cell_type": "markdown",
   "id": "6edf51e4",
   "metadata": {},
   "source": [
    "Since we have achieved overfitting, our job now is to make the \n",
    "model work between underfitting and overfitting. So we have to fine \n",
    "tune our hyperparameters and regularize the model to reduce overfitting. We will modify the values until the model gets better.\n",
    "\n",
    "I have added L2 regularisation and drop out value of 0.2."
   ]
  },
  {
   "cell_type": "code",
   "execution_count": 15,
   "id": "46f14ac3",
   "metadata": {},
   "outputs": [],
   "source": [
    "imdb_model = models.Sequential()\n",
    "imdb_model.add(layers.Dense(512, kernel_regularizer=regularizers.l2(0.001), activation='relu', input_shape=(10000,)))\n",
    "imdb_model.add(layers.Dropout(0.2))\n",
    "imdb_model.add(layers.Dense(1, activation='sigmoid'))\n"
   ]
  },
  {
   "cell_type": "code",
   "execution_count": 16,
   "id": "94b0eeb2",
   "metadata": {},
   "outputs": [],
   "source": [
    "imdb_model.compile(optimizer='rmsprop',\n",
    "loss='binary_crossentropy',\n",
    "metrics=['accuracy'])"
   ]
  },
  {
   "cell_type": "code",
   "execution_count": 17,
   "id": "e59dd509",
   "metadata": {},
   "outputs": [
    {
     "name": "stdout",
     "output_type": "stream",
     "text": [
      "Epoch 1/4\n",
      "30/30 [==============================] - 7s 195ms/step - loss: 0.8658 - accuracy: 0.7708 - val_loss: 0.5175 - val_accuracy: 0.8641\n",
      "Epoch 2/4\n",
      "30/30 [==============================] - 6s 187ms/step - loss: 0.4658 - accuracy: 0.8687 - val_loss: 0.5321 - val_accuracy: 0.8160\n",
      "Epoch 3/4\n",
      "30/30 [==============================] - 5s 180ms/step - loss: 0.3938 - accuracy: 0.8942 - val_loss: 0.5394 - val_accuracy: 0.8104\n",
      "Epoch 4/4\n",
      "30/30 [==============================] - 5s 183ms/step - loss: 0.3770 - accuracy: 0.8944 - val_loss: 0.4117 - val_accuracy: 0.8734\n"
     ]
    }
   ],
   "source": [
    "imdb_history = imdb_model.fit(partialXTrain,\n",
    "                    partialYTrain,\n",
    "                    epochs=4,\n",
    "                    batch_size=512,\n",
    "                    validation_data=(x_validation, y_validation))"
   ]
  },
  {
   "cell_type": "markdown",
   "id": "5aee1e82",
   "metadata": {},
   "source": [
    "As seen from the graph below the validation loss has decreased after 3 epochs, proving that the overfitting has been removed anf the model is now performing well. Therefore, it has been established that the model performs well on the valisation data set. "
   ]
  },
  {
   "cell_type": "code",
   "execution_count": 18,
   "id": "5c6e7a51",
   "metadata": {},
   "outputs": [
    {
     "data": {
      "image/png": "[encoded data removed]",
      "text/plain": [
       "<Figure size 432x288 with 1 Axes>"
      ]
     },
     "metadata": {
      "needs_background": "light"
     },
     "output_type": "display_data"
    }
   ],
   "source": [
    "history_dict_val = imdb_history.history\n",
    "lossValues = history_dict_val['loss']\n",
    "validationLossValues = history_dict_val['val_loss']\n",
    "lenLv = len(lossValues)\n",
    "ep_ochs = range(1, lenLv + 1)\n",
    "plot.plot(ep_ochs, lossValues, color='magenta',linestyle='solid', label='Train loss')\n",
    "plot.plot(ep_ochs, validationLossValues, color='red',linestyle='solid', label='Validation loss')\n",
    "plot.title('Training and validation loss')\n",
    "plot.xlabel('Epochs')\n",
    "plot.ylabel('Loss')\n",
    "plot.legend()\n",
    "plot.show()"
   ]
  },
  {
   "cell_type": "markdown",
   "id": "8eb0ee01",
   "metadata": {},
   "source": [
    "## Final Accuracy using test data"
   ]
  },
  {
   "cell_type": "code",
   "execution_count": 19,
   "id": "10ed0ec5",
   "metadata": {},
   "outputs": [
    {
     "name": "stdout",
     "output_type": "stream",
     "text": [
      "Epoch 1/4\n",
      "49/49 [==============================] - 9s 194ms/step - loss: 0.4118 - accuracy: 0.8687 - val_loss: 0.4939 - val_accuracy: 0.8203\n",
      "Epoch 2/4\n",
      "49/49 [==============================] - 9s 178ms/step - loss: 0.3646 - accuracy: 0.8878 - val_loss: 0.3674 - val_accuracy: 0.8865\n",
      "Epoch 3/4\n",
      "49/49 [==============================] - 9s 183ms/step - loss: 0.3481 - accuracy: 0.8926 - val_loss: 0.3854 - val_accuracy: 0.8761\n",
      "Epoch 4/4\n",
      "49/49 [==============================] - 9s 179ms/step - loss: 0.3414 - accuracy: 0.8957 - val_loss: 0.3631 - val_accuracy: 0.8868\n"
     ]
    }
   ],
   "source": [
    "imdb_history = imdb_model.fit(testingX,\n",
    "                    testingY,\n",
    "                    epochs=4,\n",
    "                    batch_size=512,\n",
    "                    validation_data=(x_validation, y_validation))"
   ]
  },
  {
   "cell_type": "markdown",
   "id": "efa98c1a",
   "metadata": {},
   "source": [
    "When the test values were used into the model, we can see from the graph that the validation loss decreased after 3 epochs.This shows that the model also works well with the test data. Therefore, the model is has a satisfactory configyration."
   ]
  },
  {
   "cell_type": "code",
   "execution_count": 20,
   "id": "77b1fd7d",
   "metadata": {},
   "outputs": [
    {
     "data": {
      "image/png": "[encoded data removed]",
      "text/plain": [
       "<Figure size 432x288 with 1 Axes>"
      ]
     },
     "metadata": {
      "needs_background": "light"
     },
     "output_type": "display_data"
    }
   ],
   "source": [
    "history_dict_val = imdb_history.history\n",
    "lossValues = history_dict_val['loss']\n",
    "validationLossValues = history_dict_val['val_loss']\n",
    "lenLv = len(lossValues)\n",
    "ep_ochs = range(1, lenLv + 1)\n",
    "plot.plot(ep_ochs, lossValues, color='magenta',linestyle='solid', label='Train loss')\n",
    "plot.plot(ep_ochs, validationLossValues, color='red',linestyle='solid', label='Validation loss')\n",
    "plot.title('Training and validation loss')\n",
    "plot.xlabel('Epochs')\n",
    "plot.ylabel('Loss')\n",
    "plot.legend()\n",
    "plot.show()"
   ]
  },
  {
   "cell_type": "markdown",
   "id": "4ceab44c",
   "metadata": {},
   "source": [
    "Moreover, after evaluating the model with the test data, the model has achieved an accuracy of 93% which is pretty high. This proves that the model is good."
   ]
  },
  {
   "cell_type": "code",
   "execution_count": 21,
   "id": "32df4e14",
   "metadata": {},
   "outputs": [
    {
     "name": "stdout",
     "output_type": "stream",
     "text": [
      "782/782 [==============================] - 11s 14ms/step - loss: 0.2678 - accuracy: 0.9395\n"
     ]
    }
   ],
   "source": [
    "imdb_results = imdb_model.evaluate(testingX, testingY)"
   ]
  },
  {
   "cell_type": "markdown",
   "id": "8c5c4070",
   "metadata": {},
   "source": [
    "# References"
   ]
  },
  {
   "cell_type": "markdown",
   "id": "995457f2",
   "metadata": {},
   "source": [
    "##### Deep Learning with Python Francois Chollet Chapter 4.5 Pg 111-115\n",
    "##### Deep Learning with Python Francois Chollet Chapter 3.4 Pg 68-74"
   ]
  }
 ],
 "metadata": {
  "kernelspec": {
   "display_name": "Python 3 (ipykernel)",
   "language": "python",
   "name": "python3"
  },
  "language_info": {
   "codemirror_mode": {
    "name": "ipython",
    "version": 3
   },
   "file_extension": ".py",
   "mimetype": "text/x-python",
   "name": "python",
   "nbconvert_exporter": "python",
   "pygments_lexer": "ipython3",
   "version": "3.9.7"
  }
 },
 "nbformat": 4,
 "nbformat_minor": 5
}
